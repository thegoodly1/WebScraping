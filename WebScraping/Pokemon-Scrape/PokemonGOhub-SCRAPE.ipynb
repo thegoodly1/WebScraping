{
 "cells": [
  {
   "cell_type": "code",
   "execution_count": 1,
   "metadata": {
    "collapsed": true
   },
   "outputs": [],
   "source": [
    "import pandas as pd\n",
    "import numpy as np\n",
    "import requests\n",
    "from bs4 import BeautifulSoup"
   ]
  },
  {
   "cell_type": "code",
   "execution_count": 48,
   "metadata": {
    "collapsed": true
   },
   "outputs": [],
   "source": [
    "response = requests.get('https://pokemongohub.net/generation-2/max-cp-list/')\n",
    "soup = BeautifulSoup(response.content, 'lxml')\n",
    "table = soup.find('tbody')\n",
    "grid = table.find_all('tr')"
   ]
  },
  {
   "cell_type": "code",
   "execution_count": 49,
   "metadata": {
    "collapsed": true
   },
   "outputs": [
    {
     "data": {
      "text/plain": [
       "[<tr>\\n<td><span style=\"color: #999999;\">152</span></td>\\n<td><img src=\"/sprites/normal/152.png\"/></td>\\n<td><b>Chikorita</b><small class=\"type-badge grass\">Grass</small></td>\\n<td>801</td>\\n</tr>,\n",
       " <tr>\\n<td><span style=\"color: #999999;\">153</span></td>\\n<td><img src=\"/sprites/normal/153.png\"/></td>\\n<td><b>Bayleef</b><small class=\"type-badge grass\">Grass</small></td>\\n<td>1296</td>\\n</tr>,\n",
       " <tr>\\n<td><span style=\"color: #999999;\">154</span></td>\\n<td><img src=\"/sprites/normal/154.png\"/></td>\\n<td><b>Meganium</b><small class=\"type-badge grass\">Grass</small></td>\\n<td>2227</td>\\n</tr>,\n",
       " <tr>\\n<td><span style=\"color: #999999;\">155</span></td>\\n<td><img src=\"/sprites/normal/155.png\"/></td>\\n<td><b>Cyndaquil</b><small class=\"type-badge fire\">Fire</small></td>\\n<td>831</td>\\n</tr>,\n",
       " <tr>\\n<td><span style=\"color: #999999;\">156</span></td>\\n<td><img src=\"/sprites/normal/156.png\"/></td>\\n<td><b>Quilava</b><small class=\"type-badge fire\">Fire</small></td>\\n<td>1484</td>\\n</tr>,\n",
       " <tr>\\n<td><span style=\"color: #999999;\">157</span></td>\\n<td><img src=\"/sprites/normal/157.png\"/></td>\\n<td><b>Typhlosion</b><small class=\"type-badge fire\">Fire</small></td>\\n<td>2686</td>\\n</tr>,\n",
       " <tr>\\n<td><span style=\"color: #999999;\">158</span></td>\\n<td><img src=\"/sprites/normal/158.png\"/></td>\\n<td><b>Totodile</b><small class=\"type-badge water\">Water</small></td>\\n<td>1011</td>\\n</tr>,\n",
       " <tr>\\n<td><span style=\"color: #999999;\">159</span></td>\\n<td><img src=\"/sprites/normal/159.png\"/></td>\\n<td><b>Croconaw</b><small class=\"type-badge water\">Water</small></td>\\n<td>1598</td>\\n</tr>,\n",
       " <tr>\\n<td><span style=\"color: #999999;\">160</span></td>\\n<td><img src=\"/sprites/normal/160.png\"/></td>\\n<td><b>Feraligatr</b><small class=\"type-badge water\">Water</small></td>\\n<td>2721</td>\\n</tr>,\n",
       " <tr>\\n<td><span style=\"color: #999999;\">161</span></td>\\n<td><img src=\"/sprites/normal/161.png\"/></td>\\n<td><b>Sentret</b><small class=\"type-badge normal\">Normal</small></td>\\n<td>519</td>\\n</tr>,\n",
       " <tr>\\n<td><span style=\"color: #999999;\">162</span></td>\\n<td><img src=\"/sprites/normal/162.png\"/></td>\\n<td><b>Furret</b><small class=\"type-badge normal\">Normal</small></td>\\n<td>1667</td>\\n</tr>,\n",
       " <tr>\\n<td><span style=\"color: #999999;\">163</span></td>\\n<td><img src=\"/sprites/normal/163.png\"/></td>\\n<td><b>Hoothoot</b><small class=\"type-badge normal\">Normal</small> <small class=\"type-badge flying\">Flying</small></td>\\n<td>640</td>\\n</tr>,\n",
       " <tr>\\n<td><span style=\"color: #999999;\">164</span></td>\\n<td><img src=\"/sprites/normal/164.png\"/></td>\\n<td><b>Noctowl</b><small class=\"type-badge normal\">Normal</small> <small class=\"type-badge flying\">Flying</small></td>\\n<td>2040</td>\\n</tr>,\n",
       " <tr>\\n<td><span style=\"color: #999999;\">165</span></td>\\n<td><img src=\"/sprites/normal/165.png\"/></td>\\n<td><b>Ledyba</b><small class=\"type-badge bug\">Bug</small> <small class=\"type-badge flying\">Flying</small></td>\\n<td>663</td>\\n</tr>,\n",
       " <tr>\\n<td><span style=\"color: #999999;\">166</span></td>\\n<td><img src=\"/sprites/normal/166.png\"/></td>\\n<td><b>Ledian</b><small class=\"type-badge bug\">Bug</small> <small class=\"type-badge flying\">Flying</small></td>\\n<td>1275</td>\\n</tr>,\n",
       " <tr>\\n<td><span style=\"color: #999999;\">167</span></td>\\n<td><img src=\"/sprites/normal/167.png\"/></td>\\n<td><b>Spinarak</b><small class=\"type-badge bug\">Bug</small> <small class=\"type-badge poison\">Poison</small></td>\\n<td>685</td>\\n</tr>,\n",
       " <tr>\\n<td><span style=\"color: #999999;\">168</span></td>\\n<td><img src=\"/sprites/normal/168.png\"/></td>\\n<td><b>Ariados</b><small class=\"type-badge bug\">Bug</small> <small class=\"type-badge poison\">Poison</small></td>\\n<td>1636</td>\\n</tr>,\n",
       " <tr>\\n<td><span style=\"color: #999999;\">169</span></td>\\n<td><img src=\"/sprites/normal/169.png\"/></td>\\n<td><b>Crobat</b><small class=\"type-badge poison\">Poison</small> <small class=\"type-badge flying\">Flying</small></td>\\n<td>2466</td>\\n</tr>,\n",
       " <tr>\\n<td><span style=\"color: #999999;\">170</span></td>\\n<td><img src=\"/sprites/normal/170.png\"/></td>\\n<td><b>Chinchou</b><small class=\"type-badge water\">Water</small> <small class=\"type-badge electric\">Electric</small></td>\\n<td>1067</td>\\n</tr>,\n",
       " <tr>\\n<td><span style=\"color: #999999;\">171</span></td>\\n<td><img src=\"/sprites/normal/171.png\"/></td>\\n<td><b>Lanturn</b><small class=\"type-badge water\">Water</small> <small class=\"type-badge electric\">Electric</small></td>\\n<td>2077</td>\\n</tr>,\n",
       " <tr>\\n<td><span style=\"color: #999999;\">172</span></td>\\n<td><img src=\"/sprites/normal/172.png\"/></td>\\n<td><b>Pichu</b><small class=\"type-badge electric\">Electric</small></td>\\n<td>376</td>\\n</tr>,\n",
       " <tr>\\n<td><span style=\"color: #999999;\">173</span></td>\\n<td><img src=\"/sprites/normal/173.png\"/></td>\\n<td><b>Cleffa</b><small class=\"type-badge normal\">Normal</small></td>\\n<td>620</td>\\n</tr>,\n",
       " <tr>\\n<td><span style=\"color: #999999;\">174</span></td>\\n<td><img src=\"/sprites/normal/174.png\"/></td>\\n<td><b>Igglybuff</b><small class=\"type-badge normal\">Normal</small></td>\\n<td>512</td>\\n</tr>,\n",
       " <tr>\\n<td><span style=\"color: #999999;\">175</span></td>\\n<td><img src=\"/sprites/normal/175.png\"/></td>\\n<td><b>Togepi</b><small class=\"type-badge normal\">Normal</small></td>\\n<td>540</td>\\n</tr>,\n",
       " <tr>\\n<td><span style=\"color: #999999;\">176</span></td>\\n<td><img src=\"/sprites/normal/176.png\"/></td>\\n<td><b>Togetic</b><small class=\"type-badge normal\">Normal</small> <small class=\"type-badge flying\">Flying</small></td>\\n<td>1543</td>\\n</tr>,\n",
       " <tr>\\n<td><span style=\"color: #999999;\">177</span></td>\\n<td><img src=\"/sprites/normal/177.png\"/></td>\\n<td><b>Natu</b><small class=\"type-badge psychic\">Psychic</small> <small class=\"type-badge flying\">Flying</small></td>\\n<td>925</td>\\n</tr>,\n",
       " <tr>\\n<td><span style=\"color: #999999;\">178</span></td>\\n<td><img src=\"/sprites/normal/178.png\"/></td>\\n<td><b>Xatu</b><small class=\"type-badge psychic\">Psychic</small> <small class=\"type-badge flying\">Flying</small></td>\\n<td>1975</td>\\n</tr>,\n",
       " <tr>\\n<td><span style=\"color: #999999;\">179</span></td>\\n<td><img src=\"/sprites/normal/179.png\"/></td>\\n<td><b>Mareep</b><small class=\"type-badge electric\">Electric</small></td>\\n<td>887</td>\\n</tr>,\n",
       " <tr>\\n<td><span style=\"color: #999999;\">180</span></td>\\n<td><img src=\"/sprites/normal/180.png\"/></td>\\n<td><b>Flaaffy</b><small class=\"type-badge electric\">Electric</small></td>\\n<td>1402</td>\\n</tr>,\n",
       " <tr>\\n<td><span style=\"color: #999999;\">181</span></td>\\n<td><img src=\"/sprites/normal/181.png\"/></td>\\n<td><b>Ampharos</b><small class=\"type-badge electric\">Electric</small></td>\\n<td>2695</td>\\n</tr>,\n",
       " <tr>\\n<td><span style=\"color: #999999;\">182</span></td>\\n<td><img src=\"/sprites/normal/182.png\"/></td>\\n<td><b>Bellossom</b><small class=\"type-badge grass\">Grass</small></td>\\n<td>2108</td>\\n</tr>,\n",
       " <tr>\\n<td><span style=\"color: #999999;\">183</span></td>\\n<td><img src=\"/sprites/normal/183.png\"/></td>\\n<td><b>Marill</b><small class=\"type-badge water\">Water</small></td>\\n<td>420</td>\\n</tr>,\n",
       " <tr>\\n<td><span style=\"color: #999999;\">184</span></td>\\n<td><img src=\"/sprites/normal/184.png\"/></td>\\n<td><b>Azumarill</b><small class=\"type-badge water\">Water</small></td>\\n<td>1503</td>\\n</tr>,\n",
       " <tr>\\n<td><span style=\"color: #999999;\">185</span></td>\\n<td><img src=\"/sprites/normal/185.png\"/></td>\\n<td><b>Sudowoodo</b><small class=\"type-badge rock\">Rock</small></td>\\n<td>2065</td>\\n</tr>,\n",
       " <tr>\\n<td><span style=\"color: #999999;\">186</span></td>\\n<td><img src=\"/sprites/normal/186.png\"/></td>\\n<td><b>Politoed</b><small class=\"type-badge water\">Water</small></td>\\n<td>2371</td>\\n</tr>,\n",
       " <tr>\\n<td><span style=\"color: #999999;\">187</span></td>\\n<td><img src=\"/sprites/normal/187.png\"/></td>\\n<td><b>Hoppip</b><small class=\"type-badge grass\">Grass</small> <small class=\"type-badge flying\">Flying</small></td>\\n<td>508</td>\\n</tr>,\n",
       " <tr>\\n<td><span style=\"color: #999999;\">188</span></td>\\n<td><img src=\"/sprites/normal/188.png\"/></td>\\n<td><b>Skiploom</b><small class=\"type-badge grass\">Grass</small> <small class=\"type-badge flying\">Flying</small></td>\\n<td>882</td>\\n</tr>,\n",
       " <tr>\\n<td><span style=\"color: #999999;\">189</span></td>\\n<td><img src=\"/sprites/normal/189.png\"/></td>\\n<td><b>Jumpluff</b><small class=\"type-badge grass\">Grass</small> <small class=\"type-badge flying\">Flying</small></td>\\n<td>1553</td>\\n</tr>,\n",
       " <tr>\\n<td><span style=\"color: #999999;\">190</span></td>\\n<td><img src=\"/sprites/normal/190.png\"/></td>\\n<td><b>Aipom</b><small class=\"type-badge normal\">Normal</small></td>\\n<td>1188</td>\\n</tr>,\n",
       " <tr>\\n<td><span style=\"color: #999999;\">191</span></td>\\n<td><img src=\"/sprites/normal/191.png\"/></td>\\n<td><b>Sunkern</b><small class=\"type-badge grass\">Grass</small></td>\\n<td>316</td>\\n</tr>,\n",
       " <tr>\\n<td><span style=\"color: #999999;\">192</span></td>\\n<td><img src=\"/sprites/normal/192.png\"/></td>\\n<td><b>Sunflora</b><small class=\"type-badge grass\">Grass</small></td>\\n<td>2048</td>\\n</tr>,\n",
       " <tr>\\n<td><span style=\"color: #999999;\">193</span></td>\\n<td><img src=\"/sprites/normal/193.png\"/></td>\\n<td><b>Yanma</b><small class=\"type-badge bug\">Bug</small> <small class=\"type-badge flying\">Flying</small></td>\\n<td>1326</td>\\n</tr>,\n",
       " <tr>\\n<td><span style=\"color: #999999;\">194</span></td>\\n<td><img src=\"/sprites/normal/194.png\"/></td>\\n<td><b>Wooper</b><small class=\"type-badge water\">Water</small> <small class=\"type-badge ground\">Ground</small></td>\\n<td>596</td>\\n</tr>,\n",
       " <tr>\\n<td><span style=\"color: #999999;\">195</span></td>\\n<td><img src=\"/sprites/normal/195.png\"/></td>\\n<td><b>Quagsire</b><small class=\"type-badge water\">Water</small> <small class=\"type-badge ground\">Ground</small></td>\\n<td>1929</td>\\n</tr>,\n",
       " <tr>\\n<td><span style=\"color: #999999;\">196</span></td>\\n<td><img src=\"/sprites/normal/196.png\"/></td>\\n<td><b>Espeon</b><small class=\"type-badge psychic\">Psychic</small></td>\\n<td>3000</td>\\n</tr>,\n",
       " <tr>\\n<td><span style=\"color: #999999;\">197</span></td>\\n<td><img src=\"/sprites/normal/197.png\"/></td>\\n<td><b>Umbreon</b><small class=\"type-badge dark\">Dark</small></td>\\n<td>2052</td>\\n</tr>,\n",
       " <tr>\\n<td><span style=\"color: #999999;\">198</span></td>\\n<td><img src=\"/sprites/normal/198.png\"/></td>\\n<td><b>Murkrow</b><small class=\"type-badge dark\">Dark</small> <small class=\"type-badge flying\">Flying</small></td>\\n<td>1392</td>\\n</tr>,\n",
       " <tr>\\n<td><span style=\"color: #999999;\">199</span></td>\\n<td><img src=\"/sprites/normal/199.png\"/></td>\\n<td><b>Slowking</b><small class=\"type-badge water\">Water</small> <small class=\"type-badge psychic\">Psychic</small></td>\\n<td>2482</td>\\n</tr>,\n",
       " <tr>\\n<td><span style=\"color: #999999;\">200</span></td>\\n<td><img src=\"/sprites/normal/200.png\"/></td>\\n<td><b>Misdreavus</b><small class=\"type-badge ghost\">Ghost</small></td>\\n<td>1781</td>\\n</tr>,\n",
       " <tr>\\n<td><span style=\"color: #999999;\">201</span></td>\\n<td><img src=\"/sprites/normal/201.png\"/></td>\\n<td><b>Unown</b><small class=\"type-badge psychic\">Psychic</small></td>\\n<td>1022</td>\\n</tr>,\n",
       " <tr>\\n<td><span style=\"color: #999999;\">202</span></td>\\n<td><img src=\"/sprites/normal/202.png\"/></td>\\n<td><b>Wobbuffet</b><small class=\"type-badge psychic\">Psychic</small></td>\\n<td>1024</td>\\n</tr>,\n",
       " <tr>\\n<td><span style=\"color: #999999;\">203</span></td>\\n<td><img src=\"/sprites/normal/203.png\"/></td>\\n<td><b>Girafarig</b><small class=\"type-badge normal\">Normal</small> <small class=\"type-badge psychic\">Psychic</small></td>\\n<td>1863</td>\\n</tr>,\n",
       " <tr>\\n<td><span style=\"color: #999999;\">204</span></td>\\n<td><img src=\"/sprites/normal/204.png\"/></td>\\n<td><b>Pineco</b><small class=\"type-badge bug\">Bug</small></td>\\n<td>1045</td>\\n</tr>,\n",
       " <tr>\\n<td><span style=\"color: #999999;\">205</span></td>\\n<td><img src=\"/sprites/normal/205.png\"/></td>\\n<td><b>Forretress</b><small class=\"type-badge bug\">Bug</small> <small class=\"type-badge steel\">Steel</small></td>\\n<td>2263</td>\\n</tr>,\n",
       " <tr>\\n<td><span style=\"color: #999999;\">206</span></td>\\n<td><img src=\"/sprites/normal/206.png\"/></td>\\n<td><b>Dunsparce</b><small class=\"type-badge normal\">Normal</small></td>\\n<td>1615</td>\\n</tr>,\n",
       " <tr>\\n<td><span style=\"color: #999999;\">207</span></td>\\n<td><img src=\"/sprites/normal/207.png\"/></td>\\n<td><b>Gligar</b><small class=\"type-badge ground\">Ground</small> <small class=\"type-badge flying\">Flying</small></td>\\n<td>1758</td>\\n</tr>,\n",
       " <tr>\\n<td><span style=\"color: #999999;\">208</span></td>\\n<td><img src=\"/sprites/normal/208.png\"/></td>\\n<td><b>Steelix</b><small class=\"type-badge steel\">Steel</small> <small class=\"type-badge ground\">Ground</small></td>\\n<td>2439</td>\\n</tr>,\n",
       " <tr>\\n<td><span style=\"color: #999999;\">209</span></td>\\n<td><img src=\"/sprites/normal/209.png\"/></td>\\n<td><b>Snubbull</b><small class=\"type-badge normal\">Normal</small></td>\\n<td>1124</td>\\n</tr>,\n",
       " <tr>\\n<td><span style=\"color: #999999;\">210</span></td>\\n<td><img src=\"/sprites/normal/210.png\"/></td>\\n<td><b>Granbull</b><small class=\"type-badge normal\">Normal</small></td>\\n<td>2440</td>\\n</tr>,\n",
       " <tr>\\n<td><span style=\"color: #999999;\">211</span></td>\\n<td><img src=\"/sprites/normal/211.png\"/></td>\\n<td><b>Qwilfish</b><small class=\"type-badge water\">Water</small> <small class=\"type-badge poison\">Poison</small></td>\\n<td>1910</td>\\n</tr>,\n",
       " <tr>\\n<td><span style=\"color: #999999;\">212</span></td>\\n<td><img src=\"/sprites/normal/212.png\"/></td>\\n<td><b>Scizor</b><small class=\"type-badge bug\">Bug</small> <small class=\"type-badge steel\">Steel</small></td>\\n<td>2801</td>\\n</tr>,\n",
       " <tr>\\n<td><span style=\"color: #999999;\">213</span></td>\\n<td><img src=\"/sprites/normal/213.png\"/></td>\\n<td><b>Shuckle</b><small class=\"type-badge bug\">Bug</small> <small class=\"type-badge rock\">Rock</small></td>\\n<td>300</td>\\n</tr>,\n",
       " <tr>\\n<td><span style=\"color: #999999;\">214</span></td>\\n<td><img src=\"/sprites/normal/214.png\"/></td>\\n<td><b>Heracross</b><small class=\"type-badge bug\">Bug</small> <small class=\"type-badge fighting\">Fighting</small></td>\\n<td>2938</td>\\n</tr>,\n",
       " <tr>\\n<td><span style=\"color: #999999;\">215</span></td>\\n<td><img src=\"/sprites/normal/215.png\"/></td>\\n<td><b>Sneasel</b><small class=\"type-badge dark\">Dark</small> <small class=\"type-badge ice\">Ice</small></td>\\n<td>1868</td>\\n</tr>,\n",
       " <tr>\\n<td><span style=\"color: #999999;\">216</span></td>\\n<td><img src=\"/sprites/normal/216.png\"/></td>\\n<td><b>Teddiursa</b><small class=\"type-badge normal\">Normal</small></td>\\n<td>1184</td>\\n</tr>,\n",
       " <tr>\\n<td><span style=\"color: #999999;\">217</span></td>\\n<td><img src=\"/sprites/normal/217.png\"/></td>\\n<td><b>Ursaring</b><small class=\"type-badge normal\">Normal</small></td>\\n<td>2760</td>\\n</tr>,\n",
       " <tr>\\n<td><span style=\"color: #999999;\">218</span></td>\\n<td><img src=\"/sprites/normal/218.png\"/></td>\\n<td><b>Slugma</b><small class=\"type-badge fire\">Fire</small></td>\\n<td>750</td>\\n</tr>,\n",
       " <tr>\\n<td><span style=\"color: #999999;\">219</span></td>\\n<td><img src=\"/sprites/normal/219.png\"/></td>\\n<td><b>Magcargo</b><small class=\"type-badge fire\">Fire</small> <small class=\"type-badge rock\">Rock</small></td>\\n<td>1543</td>\\n</tr>,\n",
       " <tr>\\n<td><span style=\"color: #999999;\">220</span></td>\\n<td><img src=\"/sprites/normal/220.png\"/></td>\\n<td><b>Swinub</b><small class=\"type-badge ice\">Ice</small> <small class=\"type-badge ground\">Ground</small></td>\\n<td>663</td>\\n</tr>,\n",
       " <tr>\\n<td><span style=\"color: #999999;\">221</span></td>\\n<td><img src=\"/sprites/normal/221.png\"/></td>\\n<td><b>Piloswine</b><small class=\"type-badge ice\">Ice</small> <small class=\"type-badge ground\">Ground</small></td>\\n<td>2284</td>\\n</tr>,\n",
       " <tr>\\n<td><span style=\"color: #999999;\">222</span></td>\\n<td><img src=\"/sprites/normal/222.png\"/></td>\\n<td><b>Corsola</b><small class=\"type-badge water\">Water</small> <small class=\"type-badge rock\">Rock</small></td>\\n<td>1214</td>\\n</tr>,\n",
       " <tr>\\n<td><span style=\"color: #999999;\">223</span></td>\\n<td><img src=\"/sprites/normal/223.png\"/></td>\\n<td><b>Remoraid</b><small class=\"type-badge water\">Water</small></td>\\n<td>749</td>\\n</tr>,\n",
       " <tr>\\n<td><span style=\"color: #999999;\">224</span></td>\\n<td><img src=\"/sprites/normal/224.png\"/></td>\\n<td><b>Octillery</b><small class=\"type-badge water\">Water</small></td>\\n<td>2124</td>\\n</tr>,\n",
       " <tr>\\n<td><span style=\"color: #999999;\">225</span></td>\\n<td><img src=\"/sprites/normal/225.png\"/></td>\\n<td><b>Delibird</b><small class=\"type-badge ice\">Ice</small> <small class=\"type-badge flying\">Flying</small></td>\\n<td>937</td>\\n</tr>,\n",
       " <tr>\\n<td><span style=\"color: #999999;\">226</span></td>\\n<td><img src=\"/sprites/normal/226.png\"/></td>\\n<td><b>Mantine</b><small class=\"type-badge water\">Water</small> <small class=\"type-badge flying\">Flying</small></td>\\n<td>2032</td>\\n</tr>,\n",
       " <tr>\\n<td><span style=\"color: #999999;\">227</span></td>\\n<td><img src=\"/sprites/normal/227.png\"/></td>\\n<td><b>Skarmory</b><small class=\"type-badge steel\">Steel</small> <small class=\"type-badge flying\">Flying</small></td>\\n<td>2032</td>\\n</tr>,\n",
       " <tr>\\n<td><span style=\"color: #999999;\">228</span></td>\\n<td><img src=\"/sprites/normal/228.png\"/></td>\\n<td><b>Houndour</b><small class=\"type-badge dark\">Dark</small> <small class=\"type-badge fire\">Fire</small></td>\\n<td>1110</td>\\n</tr>,\n",
       " <tr>\\n<td><span style=\"color: #999999;\">229</span></td>\\n<td><img src=\"/sprites/normal/229.png\"/></td>\\n<td><b>Houndoom</b><small class=\"type-badge dark\">Dark</small> <small class=\"type-badge fire\">Fire</small></td>\\n<td>2529</td>\\n</tr>,\n",
       " <tr>\\n<td><span style=\"color: #999999;\">230</span></td>\\n<td><img src=\"/sprites/normal/230.png\"/></td>\\n<td><b>Kingdra</b><small class=\"type-badge water\">Water</small> <small class=\"type-badge dragon\">Dragon</small></td>\\n<td>2424</td>\\n</tr>,\n",
       " <tr>\\n<td><span style=\"color: #999999;\">231</span></td>\\n<td><img src=\"/sprites/normal/231.png\"/></td>\\n<td><b>Phanpy</b><small class=\"type-badge ground\">Ground</small></td>\\n<td>1175</td>\\n</tr>,\n",
       " <tr>\\n<td><span style=\"color: #999999;\">232</span></td>\\n<td><img src=\"/sprites/normal/232.png\"/></td>\\n<td><b>Donphan</b><small class=\"type-badge ground\">Ground</small></td>\\n<td>3022</td>\\n</tr>,\n",
       " <tr>\\n<td><span style=\"color: #999999;\">233</span></td>\\n<td><img src=\"/sprites/normal/233.png\"/></td>\\n<td><b>Porygon2</b><small class=\"type-badge normal\">Normal</small></td>\\n<td>2546</td>\\n</tr>,\n",
       " <tr>\\n<td><span style=\"color: #999999;\">234</span></td>\\n<td><img src=\"/sprites/normal/234.png\"/></td>\\n<td><b>Stantler</b><small class=\"type-badge normal\">Normal</small></td>\\n<td>1988</td>\\n</tr>,\n",
       " <tr>\\n<td><span style=\"color: #999999;\">235</span></td>\\n<td><img src=\"/sprites/normal/235.png\"/></td>\\n<td><b>Smeargle</b><small class=\"type-badge normal\">Normal</small></td>\\n<td>389</td>\\n</tr>,\n",
       " <tr>\\n<td><span style=\"color: #999999;\">236</span></td>\\n<td><img src=\"/sprites/normal/236.png\"/></td>\\n<td><b>Tyrogue</b><small class=\"type-badge fighting\">Fighting</small></td>\\n<td>404</td>\\n</tr>,\n",
       " <tr>\\n<td><span style=\"color: #999999;\">237</span></td>\\n<td><img src=\"/sprites/normal/237.png\"/></td>\\n<td><b>Hitmontop</b><small class=\"type-badge fighting\">Fighting</small></td>\\n<td>1905</td>\\n</tr>,\n",
       " <tr>\\n<td><span style=\"color: #999999;\">238</span></td>\\n<td><img src=\"/sprites/normal/238.png\"/></td>\\n<td><b>Smoochum</b><small class=\"type-badge ice\">Ice</small> <small class=\"type-badge psychic\">Psychic</small></td>\\n<td>1230</td>\\n</tr>,\n",
       " <tr>\\n<td><span style=\"color: #999999;\">239</span></td>\\n<td><img src=\"/sprites/normal/239.png\"/></td>\\n<td><b>Elekid</b><small class=\"type-badge electric\">Electric</small></td>\\n<td>1073</td>\\n</tr>,\n",
       " <tr>\\n<td><span style=\"color: #999999;\">240</span></td>\\n<td><img src=\"/sprites/normal/240.png\"/></td>\\n<td><b>Magby</b><small class=\"type-badge fire\">Fire</small></td>\\n<td>1178</td>\\n</tr>,\n",
       " <tr>\\n<td><span style=\"color: #999999;\">241</span></td>\\n<td><img src=\"/sprites/normal/241.png\"/></td>\\n<td><b>Miltank</b><small class=\"type-badge normal\">Normal</small></td>\\n<td>2312</td>\\n</tr>,\n",
       " <tr>\\n<td><span style=\"color: #999999;\">242</span></td>\\n<td><img src=\"/sprites/normal/242.png\"/></td>\\n<td><b>Blissey</b><small class=\"type-badge normal\">Normal</small></td>\\n<td>3219</td>\\n</tr>,\n",
       " <tr>\\n<td><span style=\"color: #999999;\">243</span></td>\\n<td><img src=\"/sprites/normal/243.png\"/></td>\\n<td><b>Raikou</b><small class=\"type-badge electric\">Electric</small></td>\\n<td>3349</td>\\n</tr>,\n",
       " <tr>\\n<td><span style=\"color: #999999;\">244</span></td>\\n<td><img src=\"/sprites/normal/244.png\"/></td>\\n<td><b>Entei</b><small class=\"type-badge fire\">Fire</small></td>\\n<td>3377</td>\\n</tr>,\n",
       " <tr>\\n<td><span style=\"color: #999999;\">245</span></td>\\n<td><img src=\"/sprites/normal/245.png\"/></td>\\n<td><b>Suicune</b><small class=\"type-badge water\">Water</small></td>\\n<td>2823</td>\\n</tr>,\n",
       " <tr>\\n<td><span style=\"color: #999999;\">246</span></td>\\n<td><img src=\"/sprites/normal/246.png\"/></td>\\n<td><b>Larvitar</b><small class=\"type-badge rock\">Rock</small> <small class=\"type-badge ground\">Ground</small></td>\\n<td>904</td>\\n</tr>,\n",
       " <tr>\\n<td><span style=\"color: #999999;\">247</span></td>\\n<td><img src=\"/sprites/normal/247.png\"/></td>\\n<td><b>Pupitar</b><small class=\"type-badge rock\">Rock</small> <small class=\"type-badge ground\">Ground</small></td>\\n<td>1608</td>\\n</tr>,\n",
       " <tr>\\n<td><span style=\"color: #999999;\">248</span></td>\\n<td><img src=\"/sprites/normal/248.png\"/></td>\\n<td><b>Tyranitar</b><small class=\"type-badge rock\">Rock</small> <small class=\"type-badge dark\">Dark</small></td>\\n<td>3670</td>\\n</tr>,\n",
       " <tr>\\n<td><span style=\"color: #999999;\">249</span></td>\\n<td><img src=\"/sprites/normal/249.png\"/></td>\\n<td><b>Lugia</b><small class=\"type-badge psychic\">Psychic</small> <small class=\"type-badge flying\">Flying</small></td>\\n<td>3598</td>\\n</tr>,\n",
       " <tr>\\n<td><span style=\"color: #999999;\">250</span></td>\\n<td><img src=\"/sprites/normal/250.png\"/></td>\\n<td><b>Ho-Oh</b><small class=\"type-badge fire\">Fire</small> <small class=\"type-badge flying\">Flying</small></td>\\n<td>4650</td>\\n</tr>,\n",
       " <tr>\\n<td><span style=\"color: #999999;\">251</span></td>\\n<td><img src=\"/sprites/normal/251.png\"/></td>\\n<td><b>Celebi</b><small class=\"type-badge psychic\">Psychic</small> <small class=\"type-badge grass\">Grass</small></td>\\n<td>3090</td>\\n</tr>]"
      ]
     },
     "execution_count": 49,
     "metadata": {},
     "output_type": "execute_result"
    }
   ],
   "source": [
    "grid"
   ]
  },
  {
   "cell_type": "code",
   "execution_count": 56,
   "metadata": {},
   "outputs": [],
   "source": [
    "pokemon = []\n",
    "info = {}\n",
    "for tr in grid:\n",
    "    info = {}\n",
    "    info['#'] = tr.find('td').text\n",
    "    info['max_cp'] = tr.findAll('td')[3].text\n",
    "    pokemon.append(info)\n",
    "    "
   ]
  },
  {
   "cell_type": "code",
   "execution_count": 60,
   "metadata": {},
   "outputs": [],
   "source": [
    "gen2_cp_col = pd.DataFrame(pokemon)"
   ]
  },
  {
   "cell_type": "code",
   "execution_count": 61,
   "metadata": {
    "collapsed": true
   },
   "outputs": [],
   "source": [
    "gen2_cp_col.to_csv('gen2_cp.csv', index=False)"
   ]
  },
  {
   "cell_type": "code",
   "execution_count": null,
   "metadata": {
    "collapsed": true
   },
   "outputs": [],
   "source": []
  }
 ],
 "metadata": {
  "kernelspec": {
   "display_name": "Python 2",
   "language": "python",
   "name": "python2"
  },
  "language_info": {
   "codemirror_mode": {
    "name": "ipython",
    "version": 2
   },
   "file_extension": ".py",
   "mimetype": "text/x-python",
   "name": "python",
   "nbconvert_exporter": "python",
   "pygments_lexer": "ipython2",
   "version": "2.7.13"
  }
 },
 "nbformat": 4,
 "nbformat_minor": 2
}
